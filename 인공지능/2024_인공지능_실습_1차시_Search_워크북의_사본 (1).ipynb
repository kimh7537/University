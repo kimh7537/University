{
  "cells": [
    {
      "cell_type": "markdown",
      "metadata": {
        "id": "fbuhyNvAa83q"
      },
      "source": [
        "# 2024 인공지능 실습 1차시: Search\n",
        "\n",
        "2024년 3월 28일 목요일"
      ]
    },
    {
      "cell_type": "markdown",
      "metadata": {
        "id": "qYx4gLAibFqz"
      },
      "source": [
        "*   학번:2018131321\n",
        "*   이름:김현우"
      ]
    },
    {
      "cell_type": "markdown",
      "metadata": {
        "id": "j1UR-tijjNfc"
      },
      "source": [
        "* 제출 기한: 2024년 4월 4일 오후 2시 59분\n",
        "* 이름 학번 필수 작성\n",
        "* 금일 강의자료 제출 X\n",
        "* 코랩 사용 시 제출 방법: 파일 > 다운로드 > .ipynb 형식으로 다운로드하여 제출"
      ]
    },
    {
      "cell_type": "markdown",
      "metadata": {
        "id": "Kc8mCBTybK5m"
      },
      "source": [
        "## 목차\n",
        "\n",
        "1. Best-first search\n",
        "2. Breadth-first search\n",
        "3. Uniform-cost search\n",
        "4. Depth-first search\n",
        "5. Depth limited and Iterative deepening search\n",
        "6. Greedy best-first search\n",
        "7. A* search\n",
        "8. Weighted A* search"
      ]
    },
    {
      "cell_type": "code",
      "execution_count": null,
      "metadata": {
        "id": "6DDlvuZTbDeD"
      },
      "outputs": [
        {
          "ename": "",
          "evalue": "",
          "output_type": "error",
          "traceback": [
            "\u001b[1;31m'Python 3.10.6'(으)로 셀을 실행하려면 ipykernel 패키지가 필요합니다.\n",
            "\u001b[1;31m다음 명령어를 실행하여 Python 환경에 'ipykernel'을(를) 설치합니다. \n",
            "\u001b[1;31m 명령: 'c:/Users/kimh7/AppData/Local/Programs/Python/Python310/python.exe -m pip install ipykernel -U --user --force-reinstall'"
          ]
        }
      ],
      "source": [
        "%matplotlib inline\n",
        "import matplotlib.pyplot as plt\n",
        "import random\n",
        "import heapq\n",
        "import math\n",
        "import sys\n",
        "from collections import defaultdict, deque, Counter\n",
        "from itertools import combinations"
      ]
    },
    {
      "cell_type": "markdown",
      "metadata": {
        "id": "z8l4Ly--UP_6"
      },
      "source": [
        "# 1. Problem, Node, PriorityQueue Class"
      ]
    },
    {
      "cell_type": "code",
      "execution_count": null,
      "metadata": {
        "id": "pdEYZhkVE7pX"
      },
      "outputs": [
        {
          "ename": "",
          "evalue": "",
          "output_type": "error",
          "traceback": [
            "\u001b[1;31m'Python 3.10.6'(으)로 셀을 실행하려면 ipykernel 패키지가 필요합니다.\n",
            "\u001b[1;31m다음 명령어를 실행하여 Python 환경에 'ipykernel'을(를) 설치합니다. \n",
            "\u001b[1;31m 명령: 'c:/Users/kimh7/AppData/Local/Programs/Python/Python310/python.exe -m pip install ipykernel -U --user --force-reinstall'"
          ]
        }
      ],
      "source": [
        "class Problem(object):\n",
        "    \"\"\"The abstract class for a formal problem. A new domain subclasses this,\n",
        "    overriding `actions` and `results`, and perhaps other methods.\n",
        "    The default heuristic is 0 and the default action cost is 1 for all states.\n",
        "    When yiou create an instance of a subclass, specify `initial`, and `goal` states\n",
        "    (or give an `is_goal` method) and perhaps other keyword args for the subclass.\"\"\"\n",
        "\n",
        "    def __init__(self, initial=None, goal=None, **kwargs):\n",
        "      \"\"\"The constructor specifies the initial state, and possibly a goal\n",
        "      state, if there is a unique goal. Your subclass's constructor can add\n",
        "      other arguments.\"\"\"\n",
        "      self.__dict__.update(initial=initial, goal=goal, **kwargs)\n",
        "\n",
        "    def actions(self, state):\n",
        "      raise NotImplementedError\n",
        "\n",
        "    def result(self, state, action):\n",
        "      raise NotImplementedError\n",
        "\n",
        "    def is_goal(self, state):\n",
        "      return state == self.goal\n",
        "\n",
        "    def action_cost(self, s, a, s1):\n",
        "      return 1\n",
        "\n",
        "    def h(self, node):\n",
        "      return 0\n",
        "\n",
        "    def __str__(self):\n",
        "        return '{}({!r}, {!r})'.format(\n",
        "            type(self).__name__, self.initial, self.goal)"
      ]
    },
    {
      "cell_type": "code",
      "execution_count": null,
      "metadata": {},
      "outputs": [
        {
          "ename": "",
          "evalue": "",
          "output_type": "error",
          "traceback": [
            "\u001b[1;31m'Python 3.10.6'(으)로 셀을 실행하려면 ipykernel 패키지가 필요합니다.\n",
            "\u001b[1;31m다음 명령어를 실행하여 Python 환경에 'ipykernel'을(를) 설치합니다. \n",
            "\u001b[1;31m 명령: 'c:/Users/kimh7/AppData/Local/Programs/Python/Python310/python.exe -m pip install ipykernel -U --user --force-reinstall'"
          ]
        }
      ],
      "source": [
        "class Problem(object):\n",
        "    \"\"\"The abstract class for a formal problem. A new domain subclasses this,\n",
        "    overriding `actions` and `results`, and perhaps other methods.\n",
        "    The default heuristic is 0 and the default action cost is 1 for all states.\n",
        "    When yiou create an instance of a subclass, specify `initial`, and `goal` states\n",
        "    (or give an `is_goal` method) and perhaps other keyword args for the subclass.\"\"\"\n",
        "\n",
        "    def __init__(self, initial=None, goal=None, **kwargs):\n",
        "      \"\"\"The constructor specifies the initial state, and possibly a goal\n",
        "      state, if there is a unique goal. Your subclass's constructor can add\n",
        "      other arguments.\"\"\"\n",
        "      self.__dict__.update(initial=initial, goal=goal, **kwargs)\n",
        "\n",
        "    def actions(self, state):\n",
        "      raise NotImplementedError\n",
        "\n",
        "    def result(self, state, action):\n",
        "      raise NotImplementedError\n",
        "\n",
        "    def is_goal(self, state):\n",
        "      return state == self.goal\n",
        "\n",
        "    def action_cost(self, s, a, s1):\n",
        "      return 1\n",
        "\n",
        "    def h(self, node):\n",
        "      return 0\n",
        "\n",
        "    def __str__(self):\n",
        "        return '{}({!r}, {!r})'.format(\n",
        "            type(self).__name__, self.initial, self.goal)"
      ]
    },
    {
      "cell_type": "markdown",
      "metadata": {
        "id": "5B-yrt_r-qgz"
      },
      "source": [
        "*   `__init__(self, initial, goal)` : 생성자(constructor)라고 불리며, 클래스의 객체(instance)를 생성할 때 처음 호출되는 메소드이다. 예를 들어 `Problem(initial, goal)`로 클래스의 객체를 만들 때 사용된다. 변수 initial은 탐색 문제의 초기 상태를 지정하며, start state을 나타낸다.\n",
        "\n",
        "*   `actions(self, state)` : 주어진 상태에서 에이전트가 실행할 수 있는 모든 가능한 동작(액션)을 반환한다.\n",
        "\n",
        "*   `result(self, state, action)` :  주어진 상태에서 주어진 동작을 실행했을 때의 결과 상태를 반환한다.\n",
        "\n",
        "*   `is_goal(self, state)` : 주어진 상태가 goal state인지 여부를 판단하여 Boolean 값을 반환한다. Goal state인 경우 True를 반환하고, 그렇지 않은 경우 False를 반환한다.\n",
        "\n",
        "*   `action_cost(self, s, a, s1)` : State s에서 action a를 취하여 state s1로 도달하는 경로의 비용을 반환한다.\n",
        "\n",
        "*    `h(self, node)` : 주어진 노드에 대한 휴리스틱 값을 반환한다.\n",
        "\n",
        "*   `__str__(self)` : 표준 파이썬 기능을 오버라이드하여 해당 클래스의 객체를 문자열로 표현한다.\n",
        "\n"
      ]
    },
    {
      "cell_type": "code",
      "execution_count": null,
      "metadata": {
        "id": "uzRq22-NE9gV"
      },
      "outputs": [
        {
          "ename": "",
          "evalue": "",
          "output_type": "error",
          "traceback": [
            "\u001b[1;31m'Python 3.10.6'(으)로 셀을 실행하려면 ipykernel 패키지가 필요합니다.\n",
            "\u001b[1;31m다음 명령어를 실행하여 Python 환경에 'ipykernel'을(를) 설치합니다. \n",
            "\u001b[1;31m 명령: 'c:/Users/kimh7/AppData/Local/Programs/Python/Python310/python.exe -m pip install ipykernel -U --user --force-reinstall'"
          ]
        }
      ],
      "source": [
        "class Node:\n",
        "    \"A Node in a search tree.\"\n",
        "    def __init__(self, state, parent=None, action=None, path_cost=0):\n",
        "        self.state = state\n",
        "        self.parent = parent\n",
        "        self.action = action\n",
        "        self.path_cost = path_cost\n",
        "\n",
        "    def __repr__(self):\n",
        "      return '<{}>'.format(self.state)\n",
        "\n",
        "    def __len__(self):\n",
        "      return 0 if self.parent is None else (1 + len(self.parent))\n",
        "\n",
        "    def __lt__(self, other):\n",
        "      return self.path_cost < other.path_cost"
      ]
    },
    {
      "cell_type": "markdown",
      "metadata": {
        "id": "4F_ylIog-rGZ"
      },
      "source": [
        "*   `__init__(self, state, parent, action, path_cost)` : `Node` 클래스의 객체를 생성하는 생성자이다. `parent`는 현재 노드의 이전 노드를 나타내며, `action`은 부모 노드에서 현재 노드로 이동하는 데 필요한 행동이다. `path_cost`는 부모 노드로부터 현재 노드에 도달하는 비용이다.\n",
        "\n",
        "*   `__repr__(self)` : 노드를 나타내는 문자열을 반환한다.\n",
        "\n",
        "*   `__len__(self, other)` : 노드에서 부모 노드까지의 경로의 길이를 반환한다.\n",
        "\n",
        "*   `__lt__(self, node)` : 현재 노드의 경로 비용이 다른 노드의 경로 비용보다 작은지 여부를 판단한다."
      ]
    },
    {
      "cell_type": "code",
      "execution_count": null,
      "metadata": {
        "id": "_IxmwxOtD5G_"
      },
      "outputs": [
        {
          "ename": "",
          "evalue": "",
          "output_type": "error",
          "traceback": [
            "\u001b[1;31m'Python 3.10.6'(으)로 셀을 실행하려면 ipykernel 패키지가 필요합니다.\n",
            "\u001b[1;31m다음 명령어를 실행하여 Python 환경에 'ipykernel'을(를) 설치합니다. \n",
            "\u001b[1;31m 명령: 'c:/Users/kimh7/AppData/Local/Programs/Python/Python310/python.exe -m pip install ipykernel -U --user --force-reinstall'"
          ]
        }
      ],
      "source": [
        "failure = Node('failure', path_cost=math.inf) # Indicates an algorithm couldn't find a solution.\n",
        "cutoff  = Node('cutoff',  path_cost=math.inf) # Indicates iterative deepening search was cut off.\n",
        "\n",
        "def path_actions(node):\n",
        "    \"The sequence of actions to get to this node.\"\n",
        "    if node.parent is None:\n",
        "        return []\n",
        "    return path_actions(node.parent) + [node.action]\n",
        "\n",
        "def path_states(node):\n",
        "    \"The sequence of states to get to this node.\"\n",
        "    if node in (cutoff, failure, None):\n",
        "        return []\n",
        "    return path_states(node.parent) + [node.state]"
      ]
    },
    {
      "cell_type": "code",
      "execution_count": null,
      "metadata": {
        "id": "T_rcGs1NFC7m"
      },
      "outputs": [
        {
          "ename": "",
          "evalue": "",
          "output_type": "error",
          "traceback": [
            "\u001b[1;31m'Python 3.10.6'(으)로 셀을 실행하려면 ipykernel 패키지가 필요합니다.\n",
            "\u001b[1;31m다음 명령어를 실행하여 Python 환경에 'ipykernel'을(를) 설치합니다. \n",
            "\u001b[1;31m 명령: 'c:/Users/kimh7/AppData/Local/Programs/Python/Python310/python.exe -m pip install ipykernel -U --user --force-reinstall'"
          ]
        }
      ],
      "source": [
        "FIFOQueue = deque\n",
        "\n",
        "LIFOQueue = list\n",
        "\n",
        "class PriorityQueue:\n",
        "    \"\"\"A queue in which the item with minimum f(item) is always popped first.\"\"\"\n",
        "\n",
        "    def __init__(self, items=(), key=lambda x: x):\n",
        "        self.key = key\n",
        "        self.items = [] # a heap of (score, item) pairs\n",
        "        for item in items:\n",
        "            self.add(item)\n",
        "\n",
        "    def add(self, item):\n",
        "        \"\"\"Add item to the queue.\"\"\"\n",
        "        pair = (self.key(item), item)\n",
        "        heapq.heappush(self.items, pair)\n",
        "\n",
        "    def pop(self):\n",
        "        \"\"\"Pop and return the item with min f(item) value.\"\"\"\n",
        "        return heapq.heappop(self.items)[1]\n",
        "\n",
        "    def top(self):\n",
        "      return self.items[0][1]\n",
        "\n",
        "    def __len__(self):\n",
        "      return len(self.items)"
      ]
    },
    {
      "cell_type": "markdown",
      "metadata": {
        "id": "K0TRlj7T4ou2"
      },
      "source": [
        "# 2. RouteProblem"
      ]
    },
    {
      "cell_type": "markdown",
      "metadata": {
        "id": "z-0gfyVO8fxR"
      },
      "source": [
        "<img src='https://wikidocs.net/images/page/189097/Fig_03_01.PNG' width=700px>"
      ]
    },
    {
      "cell_type": "code",
      "execution_count": null,
      "metadata": {
        "id": "UmemeFFMmHCl"
      },
      "outputs": [
        {
          "ename": "",
          "evalue": "",
          "output_type": "error",
          "traceback": [
            "\u001b[1;31m'Python 3.10.6'(으)로 셀을 실행하려면 ipykernel 패키지가 필요합니다.\n",
            "\u001b[1;31m다음 명령어를 실행하여 Python 환경에 'ipykernel'을(를) 설치합니다. \n",
            "\u001b[1;31m 명령: 'c:/Users/kimh7/AppData/Local/Programs/Python/Python310/python.exe -m pip install ipykernel -U --user --force-reinstall'"
          ]
        }
      ],
      "source": [
        "def straight_line_distance(A, B):\n",
        "    \"Straight-line distance between two points.\"\n",
        "    return sum(abs(a - b)**2 for (a, b) in zip(A, B)) ** 0.5"
      ]
    },
    {
      "cell_type": "code",
      "execution_count": null,
      "metadata": {
        "id": "iBSiwZVPh4Jb"
      },
      "outputs": [
        {
          "ename": "",
          "evalue": "",
          "output_type": "error",
          "traceback": [
            "\u001b[1;31m'Python 3.10.6'(으)로 셀을 실행하려면 ipykernel 패키지가 필요합니다.\n",
            "\u001b[1;31m다음 명령어를 실행하여 Python 환경에 'ipykernel'을(를) 설치합니다. \n",
            "\u001b[1;31m 명령: 'c:/Users/kimh7/AppData/Local/Programs/Python/Python310/python.exe -m pip install ipykernel -U --user --force-reinstall'"
          ]
        }
      ],
      "source": [
        "class RouteProblem(Problem):\n",
        "    \"\"\"A problem to find a route between locations on a `Map`.\n",
        "    Create a problem with RouteProblem(start, goal, map=Map(...)}).\n",
        "    States are the vertexes in the Map graph; actions are destination states.\"\"\"\n",
        "\n",
        "    def __init__(self, initial=None, goal=None, **kwargs):\n",
        "      super().__init__(initial=initial, goal=goal, **kwargs)\n",
        "\n",
        "    def actions(self, state):\n",
        "        \"\"\"The places neighboring `state`.\"\"\"\n",
        "        return self.map.neighbors[state]\n",
        "\n",
        "    def result(self, state, action):\n",
        "        \"\"\"Go to the `action` place, if the map says that is possible.\"\"\"\n",
        "        return action if action in self.map.neighbors[state] else state\n",
        "\n",
        "    def action_cost(self, s, action, s1):\n",
        "        \"\"\"The distance (cost) to go from s to s1.\"\"\"\n",
        "        return self.map.distances[s, s1]\n",
        "\n",
        "    def h(self, node):\n",
        "        \"Straight-line distance between state and the goal.\"\n",
        "        locs = self.map.locations\n",
        "        return straight_line_distance(locs[node.state], locs[self.goal])"
      ]
    },
    {
      "cell_type": "code",
      "execution_count": null,
      "metadata": {
        "id": "4VxUtxBD7Yem"
      },
      "outputs": [
        {
          "ename": "",
          "evalue": "",
          "output_type": "error",
          "traceback": [
            "\u001b[1;31m'Python 3.10.6'(으)로 셀을 실행하려면 ipykernel 패키지가 필요합니다.\n",
            "\u001b[1;31m다음 명령어를 실행하여 Python 환경에 'ipykernel'을(를) 설치합니다. \n",
            "\u001b[1;31m 명령: 'c:/Users/kimh7/AppData/Local/Programs/Python/Python310/python.exe -m pip install ipykernel -U --user --force-reinstall'"
          ]
        }
      ],
      "source": [
        "class Map:\n",
        "    \"\"\"A map of places in a 2D world: a graph with vertexes and links between them.\n",
        "    In `Map(links, locations)`, `links` can be either [(v1, v2)...] pairs,\n",
        "    or a {(v1, v2): distance...} dict. Optional `locations` can be {v1: (x, y)}\n",
        "    If `directed=False` then for every (v1, v2) link, we add a (v2, v1) link.\"\"\"\n",
        "\n",
        "    def __init__(self, links, locations=None, directed=False):\n",
        "        if not hasattr(links, 'items'): # Distances are 1 by default\n",
        "            links = {link: 1 for link in links}\n",
        "        if not directed:\n",
        "            for (v1, v2) in list(links):\n",
        "                links[v2, v1] = links[v1, v2]\n",
        "        self.distances = links\n",
        "        self.neighbors = self.multimap(links)\n",
        "        self.locations = locations or defaultdict(lambda: (0, 0))\n",
        "\n",
        "\n",
        "    def multimap(self, pairs) -> dict:\n",
        "        \"Given (key, val) pairs, make a dict of {key: [val,...]}.\"\n",
        "        result = defaultdict(list)\n",
        "        for key, val in pairs:\n",
        "            result[key].append(val)\n",
        "        return result"
      ]
    },
    {
      "cell_type": "code",
      "execution_count": null,
      "metadata": {
        "id": "TYS9xITx7ZKr"
      },
      "outputs": [
        {
          "ename": "",
          "evalue": "",
          "output_type": "error",
          "traceback": [
            "\u001b[1;31m'Python 3.10.6'(으)로 셀을 실행하려면 ipykernel 패키지가 필요합니다.\n",
            "\u001b[1;31m다음 명령어를 실행하여 Python 환경에 'ipykernel'을(를) 설치합니다. \n",
            "\u001b[1;31m 명령: 'c:/Users/kimh7/AppData/Local/Programs/Python/Python310/python.exe -m pip install ipykernel -U --user --force-reinstall'"
          ]
        }
      ],
      "source": [
        "romania = Map(\n",
        "    {('O', 'Z'):  71, ('O', 'S'): 151, ('A', 'Z'): 75, ('A', 'S'): 140, ('A', 'T'): 118,\n",
        "     ('L', 'T'): 111, ('L', 'M'):  70, ('D', 'M'): 75, ('C', 'D'): 120, ('C', 'R'): 146,\n",
        "     ('C', 'P'): 138, ('R', 'S'):  80, ('F', 'S'): 99, ('B', 'F'): 211, ('B', 'P'): 101,\n",
        "     ('B', 'G'):  90, ('B', 'U'):  85, ('H', 'U'): 98, ('E', 'H'):  86, ('U', 'V'): 142,\n",
        "     ('I', 'V'):  92, ('I', 'N'):  87, ('P', 'R'): 97},\n",
        "    {'A': ( 76, 497), 'B': (400, 327), 'C': (246, 285), 'D': (160, 296), 'E': (558, 294),\n",
        "     'F': (285, 460), 'G': (368, 257), 'H': (548, 355), 'I': (488, 535), 'L': (162, 379),\n",
        "     'M': (160, 343), 'N': (407, 561), 'O': (117, 580), 'P': (311, 372), 'R': (227, 412),\n",
        "     'S': (187, 463), 'T': ( 83, 414), 'U': (471, 363), 'V': (535, 473), 'Z': (92, 539)})\n",
        "\n",
        "\n",
        "r0 = RouteProblem('A', 'A', map=romania)\n",
        "r1 = RouteProblem('A', 'B', map=romania)\n",
        "r2 = RouteProblem('N', 'L', map=romania)\n",
        "r3 = RouteProblem('E', 'T', map=romania)\n",
        "r4 = RouteProblem('O', 'M', map=romania)"
      ]
    },
    {
      "cell_type": "code",
      "execution_count": null,
      "metadata": {
        "id": "FTRsnVuC9_0V"
      },
      "outputs": [
        {
          "ename": "",
          "evalue": "",
          "output_type": "error",
          "traceback": [
            "\u001b[1;31m'Python 3.10.6'(으)로 셀을 실행하려면 ipykernel 패키지가 필요합니다.\n",
            "\u001b[1;31m다음 명령어를 실행하여 Python 환경에 'ipykernel'을(를) 설치합니다. \n",
            "\u001b[1;31m 명령: 'c:/Users/kimh7/AppData/Local/Programs/Python/Python310/python.exe -m pip install ipykernel -U --user --force-reinstall'"
          ]
        }
      ],
      "source": [
        "route = r1"
      ]
    },
    {
      "cell_type": "markdown",
      "metadata": {
        "id": "U1l_bQbzWWp_"
      },
      "source": [
        "# 3. Uninformed Search Algorithms"
      ]
    },
    {
      "cell_type": "markdown",
      "metadata": {
        "id": "PpSeZxnmRAn7"
      },
      "source": [
        "## Best-first search"
      ]
    },
    {
      "cell_type": "code",
      "execution_count": null,
      "metadata": {
        "id": "PZCrITVfWYyU"
      },
      "outputs": [
        {
          "ename": "",
          "evalue": "",
          "output_type": "error",
          "traceback": [
            "\u001b[1;31m'Python 3.10.6'(으)로 셀을 실행하려면 ipykernel 패키지가 필요합니다.\n",
            "\u001b[1;31m다음 명령어를 실행하여 Python 환경에 'ipykernel'을(를) 설치합니다. \n",
            "\u001b[1;31m 명령: 'c:/Users/kimh7/AppData/Local/Programs/Python/Python310/python.exe -m pip install ipykernel -U --user --force-reinstall'"
          ]
        }
      ],
      "source": [
        "def best_first_search(problem, f):\n",
        "    global reached\n",
        "    \"Search nodes with minimum f(node) value first.\"\n",
        "    node = Node(problem.initial)\n",
        "    frontier = PriorityQueue([node], key=f)\n",
        "    reached = {problem.initial: node}\n",
        "    while frontier:\n",
        "        node = frontier.pop()\n",
        "        if problem.is_goal(node.state):\n",
        "            return node\n",
        "        for child in expand(problem, node):\n",
        "            s = child.state\n",
        "            if s not in reached or child.path_cost < reached[s].path_cost:\n",
        "                reached[s] = child\n",
        "                frontier.add(child)\n",
        "    return failure"
      ]
    },
    {
      "cell_type": "code",
      "execution_count": null,
      "metadata": {
        "id": "SP7O7RbhDQ77"
      },
      "outputs": [
        {
          "ename": "",
          "evalue": "",
          "output_type": "error",
          "traceback": [
            "\u001b[1;31m'Python 3.10.6'(으)로 셀을 실행하려면 ipykernel 패키지가 필요합니다.\n",
            "\u001b[1;31m다음 명령어를 실행하여 Python 환경에 'ipykernel'을(를) 설치합니다. \n",
            "\u001b[1;31m 명령: 'c:/Users/kimh7/AppData/Local/Programs/Python/Python310/python.exe -m pip install ipykernel -U --user --force-reinstall'"
          ]
        }
      ],
      "source": [
        "def expand(problem, node):\n",
        "    \"Expand a node, generating the children nodes.\"\n",
        "    s = node.state\n",
        "    for action in problem.actions(s):\n",
        "        s1 = problem.result(s, action)\n",
        "        cost = node.path_cost + problem.action_cost(s, action, s1)\n",
        "        yield Node(s1, node, action, cost)"
      ]
    },
    {
      "cell_type": "markdown",
      "metadata": {
        "id": "Ae8pPgDldlY8"
      },
      "source": [
        "## Breadth-first search"
      ]
    },
    {
      "cell_type": "code",
      "execution_count": null,
      "metadata": {
        "id": "NcXHaTukdkkj"
      },
      "outputs": [
        {
          "ename": "",
          "evalue": "",
          "output_type": "error",
          "traceback": [
            "\u001b[1;31m'Python 3.10.6'(으)로 셀을 실행하려면 ipykernel 패키지가 필요합니다.\n",
            "\u001b[1;31m다음 명령어를 실행하여 Python 환경에 'ipykernel'을(를) 설치합니다. \n",
            "\u001b[1;31m 명령: 'c:/Users/kimh7/AppData/Local/Programs/Python/Python310/python.exe -m pip install ipykernel -U --user --force-reinstall'"
          ]
        }
      ],
      "source": [
        "def breadth_first_search(problem):\n",
        "    \"Search shallowest nodes in the search tree first.\"\n",
        "    node = Node(problem.initial)\n",
        "    if problem.is_goal(problem.initial):\n",
        "        return node\n",
        "    frontier = FIFOQueue([node])\n",
        "    reached = {problem.initial}\n",
        "    while frontier:\n",
        "        node = frontier.pop()\n",
        "        for child in expand(problem, node):  #먼저 발견한 S로 들어감\n",
        "            s = child.state\n",
        "            if problem.is_goal(s):\n",
        "                return child\n",
        "            if s not in reached:\n",
        "                reached.add(s)\n",
        "                frontier.appendleft(child)\n",
        "    return failure"
      ]
    },
    {
      "cell_type": "code",
      "execution_count": null,
      "metadata": {
        "colab": {
          "base_uri": "https://localhost:8080/"
        },
        "id": "r7cKviKmdihU",
        "outputId": "dc4e8f7c-748f-4fdc-ba8b-a7f9f67d78d9"
      },
      "outputs": [
        {
          "ename": "",
          "evalue": "",
          "output_type": "error",
          "traceback": [
            "\u001b[1;31m'Python 3.10.6'(으)로 셀을 실행하려면 ipykernel 패키지가 필요합니다.\n",
            "\u001b[1;31m다음 명령어를 실행하여 Python 환경에 'ipykernel'을(를) 설치합니다. \n",
            "\u001b[1;31m 명령: 'c:/Users/kimh7/AppData/Local/Programs/Python/Python310/python.exe -m pip install ipykernel -U --user --force-reinstall'"
          ]
        }
      ],
      "source": [
        "solution = breadth_first_search(route)\n",
        "print(path_states(solution))\n",
        "print(solution.path_cost)"
      ]
    },
    {
      "cell_type": "markdown",
      "metadata": {
        "id": "rcWiVDdtdfnM"
      },
      "source": [
        "## Uniform-cost search"
      ]
    },
    {
      "cell_type": "code",
      "execution_count": null,
      "metadata": {
        "id": "Bu2hq6bFdiN-"
      },
      "outputs": [
        {
          "ename": "",
          "evalue": "",
          "output_type": "error",
          "traceback": [
            "\u001b[1;31m'Python 3.10.6'(으)로 셀을 실행하려면 ipykernel 패키지가 필요합니다.\n",
            "\u001b[1;31m다음 명령어를 실행하여 Python 환경에 'ipykernel'을(를) 설치합니다. \n",
            "\u001b[1;31m 명령: 'c:/Users/kimh7/AppData/Local/Programs/Python/Python310/python.exe -m pip install ipykernel -U --user --force-reinstall'"
          ]
        }
      ],
      "source": [
        "def g(n): return n.path_cost\n",
        "\n",
        "def uniform_cost_search(problem):\n",
        "    \"Search nodes with minimum path cost first.\"\n",
        "    return best_first_search(problem, f=g)"
      ]
    },
    {
      "cell_type": "code",
      "execution_count": null,
      "metadata": {
        "colab": {
          "base_uri": "https://localhost:8080/"
        },
        "collapsed": true,
        "id": "yJPCVVvtZsLL",
        "outputId": "c8656a8a-8b8b-4bba-853e-d6dae1bee481"
      },
      "outputs": [
        {
          "ename": "",
          "evalue": "",
          "output_type": "error",
          "traceback": [
            "\u001b[1;31m'Python 3.10.6'(으)로 셀을 실행하려면 ipykernel 패키지가 필요합니다.\n",
            "\u001b[1;31m다음 명령어를 실행하여 Python 환경에 'ipykernel'을(를) 설치합니다. \n",
            "\u001b[1;31m 명령: 'c:/Users/kimh7/AppData/Local/Programs/Python/Python310/python.exe -m pip install ipykernel -U --user --force-reinstall'"
          ]
        }
      ],
      "source": [
        "solution = uniform_cost_search(route)\n",
        "print(path_states(solution))\n",
        "print('path cost: {:.1f}'.format(solution.path_cost))"
      ]
    },
    {
      "cell_type": "markdown",
      "metadata": {
        "id": "oTkVyOWcdiiv"
      },
      "source": [
        "## Depth-first search"
      ]
    },
    {
      "cell_type": "code",
      "execution_count": null,
      "metadata": {
        "id": "nMQSFQC4gDU0"
      },
      "outputs": [
        {
          "ename": "",
          "evalue": "",
          "output_type": "error",
          "traceback": [
            "\u001b[1;31m'Python 3.10.6'(으)로 셀을 실행하려면 ipykernel 패키지가 필요합니다.\n",
            "\u001b[1;31m다음 명령어를 실행하여 Python 환경에 'ipykernel'을(를) 설치합니다. \n",
            "\u001b[1;31m 명령: 'c:/Users/kimh7/AppData/Local/Programs/Python/Python310/python.exe -m pip install ipykernel -U --user --force-reinstall'"
          ]
        }
      ],
      "source": [
        "def depth_first_bfs(problem):\n",
        "    \"Search deepest nodes in the search tree first; using best-first.\"\n",
        "    return best_first_search(problem, f=lambda n: -len(n))"
      ]
    },
    {
      "cell_type": "code",
      "execution_count": null,
      "metadata": {
        "colab": {
          "base_uri": "https://localhost:8080/"
        },
        "id": "91rrE7h87v3E",
        "outputId": "32143a09-c81d-45bc-b3f4-cfd268454f79"
      },
      "outputs": [
        {
          "ename": "",
          "evalue": "",
          "output_type": "error",
          "traceback": [
            "\u001b[1;31m'Python 3.10.6'(으)로 셀을 실행하려면 ipykernel 패키지가 필요합니다.\n",
            "\u001b[1;31m다음 명령어를 실행하여 Python 환경에 'ipykernel'을(를) 설치합니다. \n",
            "\u001b[1;31m 명령: 'c:/Users/kimh7/AppData/Local/Programs/Python/Python310/python.exe -m pip install ipykernel -U --user --force-reinstall'"
          ]
        }
      ],
      "source": [
        "solution = depth_first_bfs(route)\n",
        "print(path_states(solution))\n",
        "print('path cost: {:.1f}'.format(solution.path_cost))"
      ]
    },
    {
      "cell_type": "markdown",
      "metadata": {
        "id": "T-cFrql7dsWc"
      },
      "source": [
        "## Depth-limited and Iterative deepening search"
      ]
    },
    {
      "cell_type": "code",
      "execution_count": null,
      "metadata": {
        "id": "bIpXfVS7dtqy"
      },
      "outputs": [
        {
          "ename": "",
          "evalue": "",
          "output_type": "error",
          "traceback": [
            "\u001b[1;31m'Python 3.10.6'(으)로 셀을 실행하려면 ipykernel 패키지가 필요합니다.\n",
            "\u001b[1;31m다음 명령어를 실행하여 Python 환경에 'ipykernel'을(를) 설치합니다. \n",
            "\u001b[1;31m 명령: 'c:/Users/kimh7/AppData/Local/Programs/Python/Python310/python.exe -m pip install ipykernel -U --user --force-reinstall'"
          ]
        }
      ],
      "source": [
        "def depth_limited_search(problem, limit=10):\n",
        "    \"Search deepest nodes in the search tree first.\"\n",
        "    frontier = LIFOQueue([Node(problem.initial)])\n",
        "    result = failure\n",
        "    while frontier:\n",
        "        node = frontier.pop()\n",
        "        if problem.is_goal(node.state):\n",
        "            return node\n",
        "        elif len(node) >= limit:\n",
        "            result = cutoff\n",
        "        elif not is_cycle(node):\n",
        "            for child in expand(problem, node):\n",
        "                frontier.append(child)\n",
        "    return result"
      ]
    },
    {
      "cell_type": "code",
      "execution_count": null,
      "metadata": {
        "id": "Y859z0pwylSI"
      },
      "outputs": [
        {
          "ename": "",
          "evalue": "",
          "output_type": "error",
          "traceback": [
            "\u001b[1;31m'Python 3.10.6'(으)로 셀을 실행하려면 ipykernel 패키지가 필요합니다.\n",
            "\u001b[1;31m다음 명령어를 실행하여 Python 환경에 'ipykernel'을(를) 설치합니다. \n",
            "\u001b[1;31m 명령: 'c:/Users/kimh7/AppData/Local/Programs/Python/Python310/python.exe -m pip install ipykernel -U --user --force-reinstall'"
          ]
        }
      ],
      "source": [
        "def iterative_deepening_search(problem):\n",
        "    \"Do depth-limited search with increasing depth limits.\"\n",
        "    for limit in range(1, sys.maxsize):\n",
        "        result = depth_limited_search(problem, limit)\n",
        "        if result != cutoff:\n",
        "            return result"
      ]
    },
    {
      "cell_type": "markdown",
      "metadata": {
        "id": "QYXkZhh0ZO2l"
      },
      "source": [
        "*   *depth*: `sys.maxsize`"
      ]
    },
    {
      "cell_type": "code",
      "execution_count": null,
      "metadata": {
        "id": "4wXTQIIsyuDU"
      },
      "outputs": [
        {
          "ename": "",
          "evalue": "",
          "output_type": "error",
          "traceback": [
            "\u001b[1;31m'Python 3.10.6'(으)로 셀을 실행하려면 ipykernel 패키지가 필요합니다.\n",
            "\u001b[1;31m다음 명령어를 실행하여 Python 환경에 'ipykernel'을(를) 설치합니다. \n",
            "\u001b[1;31m 명령: 'c:/Users/kimh7/AppData/Local/Programs/Python/Python310/python.exe -m pip install ipykernel -U --user --force-reinstall'"
          ]
        }
      ],
      "source": [
        "def is_cycle(node, k=30):\n",
        "    \"Does this node form a cycle of length k or less?\"\n",
        "    def find_cycle(ancestor, k):\n",
        "        return (ancestor is not None and k > 0 and\n",
        "                (ancestor.state == node.state or find_cycle(ancestor.parent, k - 1)))\n",
        "    return find_cycle(node.parent, k)"
      ]
    },
    {
      "cell_type": "code",
      "execution_count": null,
      "metadata": {
        "colab": {
          "base_uri": "https://localhost:8080/"
        },
        "id": "-SL6kMvbZDGU",
        "outputId": "586fa412-f8c1-4277-c457-ed5337ffc4f6"
      },
      "outputs": [
        {
          "ename": "",
          "evalue": "",
          "output_type": "error",
          "traceback": [
            "\u001b[1;31m'Python 3.10.6'(으)로 셀을 실행하려면 ipykernel 패키지가 필요합니다.\n",
            "\u001b[1;31m다음 명령어를 실행하여 Python 환경에 'ipykernel'을(를) 설치합니다. \n",
            "\u001b[1;31m 명령: 'c:/Users/kimh7/AppData/Local/Programs/Python/Python310/python.exe -m pip install ipykernel -U --user --force-reinstall'"
          ]
        }
      ],
      "source": [
        "solution = depth_limited_search(route)\n",
        "print(path_states(solution))\n",
        "print('path cost: {:.1f}'.format(solution.path_cost))"
      ]
    },
    {
      "cell_type": "code",
      "execution_count": null,
      "metadata": {
        "colab": {
          "base_uri": "https://localhost:8080/"
        },
        "id": "1wUfXHK89RQs",
        "outputId": "a544f68e-2241-4530-deb8-0f697829ab9b"
      },
      "outputs": [
        {
          "ename": "",
          "evalue": "",
          "output_type": "error",
          "traceback": [
            "\u001b[1;31m'Python 3.10.6'(으)로 셀을 실행하려면 ipykernel 패키지가 필요합니다.\n",
            "\u001b[1;31m다음 명령어를 실행하여 Python 환경에 'ipykernel'을(를) 설치합니다. \n",
            "\u001b[1;31m 명령: 'c:/Users/kimh7/AppData/Local/Programs/Python/Python310/python.exe -m pip install ipykernel -U --user --force-reinstall'"
          ]
        }
      ],
      "source": [
        "solution = iterative_deepening_search(route)\n",
        "print(path_states(solution))\n",
        "print('path cost: {:.1f}'.format(solution.path_cost))"
      ]
    },
    {
      "cell_type": "markdown",
      "metadata": {
        "id": "x7iQ-PdzzvcM"
      },
      "source": [
        "# 4. Informed search algorithms"
      ]
    },
    {
      "cell_type": "markdown",
      "metadata": {
        "id": "WKvWhk03duCL"
      },
      "source": [
        "## Greedy best-first search"
      ]
    },
    {
      "cell_type": "code",
      "execution_count": null,
      "metadata": {
        "id": "jTMRD8I8dvwX"
      },
      "outputs": [
        {
          "ename": "",
          "evalue": "",
          "output_type": "error",
          "traceback": [
            "\u001b[1;31m'Python 3.10.6'(으)로 셀을 실행하려면 ipykernel 패키지가 필요합니다.\n",
            "\u001b[1;31m다음 명령어를 실행하여 Python 환경에 'ipykernel'을(를) 설치합니다. \n",
            "\u001b[1;31m 명령: 'c:/Users/kimh7/AppData/Local/Programs/Python/Python310/python.exe -m pip install ipykernel -U --user --force-reinstall'"
          ]
        }
      ],
      "source": [
        "def greedy_bfs(problem, h=None):\n",
        "    \"\"\"Search nodes with minimum h(n).\"\"\"\n",
        "    h = h or problem.h\n",
        "    return best_first_search(problem, f=h)"
      ]
    },
    {
      "cell_type": "code",
      "execution_count": null,
      "metadata": {
        "colab": {
          "base_uri": "https://localhost:8080/"
        },
        "id": "ZIYmTg0-9zrH",
        "outputId": "d0422580-9176-4db7-ca1e-8a94d0749cdb"
      },
      "outputs": [
        {
          "ename": "",
          "evalue": "",
          "output_type": "error",
          "traceback": [
            "\u001b[1;31m'Python 3.10.6'(으)로 셀을 실행하려면 ipykernel 패키지가 필요합니다.\n",
            "\u001b[1;31m다음 명령어를 실행하여 Python 환경에 'ipykernel'을(를) 설치합니다. \n",
            "\u001b[1;31m 명령: 'c:/Users/kimh7/AppData/Local/Programs/Python/Python310/python.exe -m pip install ipykernel -U --user --force-reinstall'"
          ]
        }
      ],
      "source": [
        "solution = greedy_bfs(route)\n",
        "print(path_states(solution))\n",
        "print('path cost: {:.1f}'.format(solution.path_cost))"
      ]
    },
    {
      "cell_type": "markdown",
      "metadata": {
        "id": "nWLzO6AbdwGJ"
      },
      "source": [
        "## A* search"
      ]
    },
    {
      "cell_type": "code",
      "execution_count": null,
      "metadata": {
        "id": "gX0DecJ0dxkA"
      },
      "outputs": [
        {
          "ename": "",
          "evalue": "",
          "output_type": "error",
          "traceback": [
            "\u001b[1;31m'Python 3.10.6'(으)로 셀을 실행하려면 ipykernel 패키지가 필요합니다.\n",
            "\u001b[1;31m다음 명령어를 실행하여 Python 환경에 'ipykernel'을(를) 설치합니다. \n",
            "\u001b[1;31m 명령: 'c:/Users/kimh7/AppData/Local/Programs/Python/Python310/python.exe -m pip install ipykernel -U --user --force-reinstall'"
          ]
        }
      ],
      "source": [
        "def astar_search(problem, h=None):\n",
        "    \"\"\"Search nodes with minimum f(n) = g(n) + h(n).\"\"\"\n",
        "    h = h or problem.h\n",
        "    return best_first_search(problem, f=lambda n: g(n) + h(n))"
      ]
    },
    {
      "cell_type": "code",
      "execution_count": null,
      "metadata": {
        "colab": {
          "base_uri": "https://localhost:8080/"
        },
        "id": "ixCuMhFg-hI9",
        "outputId": "17f6723f-77b3-4ac5-cbfb-0f9550441b2f"
      },
      "outputs": [
        {
          "ename": "",
          "evalue": "",
          "output_type": "error",
          "traceback": [
            "\u001b[1;31m'Python 3.10.6'(으)로 셀을 실행하려면 ipykernel 패키지가 필요합니다.\n",
            "\u001b[1;31m다음 명령어를 실행하여 Python 환경에 'ipykernel'을(를) 설치합니다. \n",
            "\u001b[1;31m 명령: 'c:/Users/kimh7/AppData/Local/Programs/Python/Python310/python.exe -m pip install ipykernel -U --user --force-reinstall'"
          ]
        }
      ],
      "source": [
        "solution = astar_search(route)\n",
        "print(path_states(solution))\n",
        "print('path cost: {:.1f}'.format(solution.path_cost))"
      ]
    },
    {
      "cell_type": "markdown",
      "metadata": {
        "id": "RJy4apK1z4gV"
      },
      "source": [
        "## Weighted A* search"
      ]
    },
    {
      "cell_type": "code",
      "execution_count": null,
      "metadata": {
        "id": "JXH3BAKZz5_h"
      },
      "outputs": [
        {
          "ename": "",
          "evalue": "",
          "output_type": "error",
          "traceback": [
            "\u001b[1;31m'Python 3.10.6'(으)로 셀을 실행하려면 ipykernel 패키지가 필요합니다.\n",
            "\u001b[1;31m다음 명령어를 실행하여 Python 환경에 'ipykernel'을(를) 설치합니다. \n",
            "\u001b[1;31m 명령: 'c:/Users/kimh7/AppData/Local/Programs/Python/Python310/python.exe -m pip install ipykernel -U --user --force-reinstall'"
          ]
        }
      ],
      "source": [
        "def weighted_astar_search(problem, h=None, weight = 2): #\n",
        "    \"\"\"Search nodes with minimum f(n) = g(n) + weight * h(n).\"\"\"\n",
        "    h = h or problem.h\n",
        "    return best_first_search(problem, f=lambda n: g(n) + weight + h(n))"
      ]
    },
    {
      "cell_type": "code",
      "execution_count": null,
      "metadata": {
        "colab": {
          "base_uri": "https://localhost:8080/"
        },
        "id": "I_rue-WZ-kNK",
        "outputId": "9e9c779e-81b8-45d9-ed14-94e27adbb9d1"
      },
      "outputs": [
        {
          "ename": "",
          "evalue": "",
          "output_type": "error",
          "traceback": [
            "\u001b[1;31m'Python 3.10.6'(으)로 셀을 실행하려면 ipykernel 패키지가 필요합니다.\n",
            "\u001b[1;31m다음 명령어를 실행하여 Python 환경에 'ipykernel'을(를) 설치합니다. \n",
            "\u001b[1;31m 명령: 'c:/Users/kimh7/AppData/Local/Programs/Python/Python310/python.exe -m pip install ipykernel -U --user --force-reinstall'"
          ]
        }
      ],
      "source": [
        "solution = weighted_astar_search(route)  #과제할때 route, weight=2 이런식으로 파라미터 따로 지정\n",
        "print(path_states(solution))\n",
        "print('path cost: {:.1f}'.format(solution.path_cost))"
      ]
    },
    {
      "cell_type": "markdown",
      "metadata": {
        "id": "oH4Ecm9F-2jz"
      },
      "source": [
        "# 5. Reporting Summary Statistics on Search Algorithms"
      ]
    },
    {
      "cell_type": "code",
      "execution_count": null,
      "metadata": {
        "id": "zqLP-NmU-_Ea"
      },
      "outputs": [
        {
          "ename": "",
          "evalue": "",
          "output_type": "error",
          "traceback": [
            "\u001b[1;31m'Python 3.10.6'(으)로 셀을 실행하려면 ipykernel 패키지가 필요합니다.\n",
            "\u001b[1;31m다음 명령어를 실행하여 Python 환경에 'ipykernel'을(를) 설치합니다. \n",
            "\u001b[1;31m 명령: 'c:/Users/kimh7/AppData/Local/Programs/Python/Python310/python.exe -m pip install ipykernel -U --user --force-reinstall'"
          ]
        }
      ],
      "source": [
        "class CountCalls:\n",
        "    \"\"\"Delegate all attribute gets to the object, and count them in ._counts\"\"\"\n",
        "    def __init__(self, obj):\n",
        "        self._object = obj\n",
        "        self._counts = Counter()\n",
        "\n",
        "    def __getattr__(self, attr):\n",
        "        \"Delegate to the original object, after incrementing a counter.\"\n",
        "        self._counts[attr] += 1\n",
        "        return getattr(self._object, attr)\n",
        "\n",
        "\n",
        "def report(searchers, problems, verbose=True):\n",
        "    \"\"\"Show summary statistics for each searcher (and on each problem unless verbose is false).\"\"\"\n",
        "    for searcher in searchers:\n",
        "        print(searcher.__name__ + ':')\n",
        "        total_counts = Counter()\n",
        "        for p in problems:\n",
        "            prob   = CountCalls(p)\n",
        "            soln   = searcher(prob)\n",
        "            counts = prob._counts;\n",
        "            counts.update(actions=len(soln), cost=soln.path_cost)\n",
        "            total_counts += counts\n",
        "            if verbose: report_counts(counts, str(p)[:40])\n",
        "        report_counts(total_counts, 'TOTAL\\n')\n",
        "\n",
        "def report_counts(counts, name):\n",
        "    \"\"\"Print one line of the counts report.\"\"\"\n",
        "    print('{:9,d} nodes |{:9,d} goal |{:5.0f} cost |{:8,d} actions | {}'.format(\n",
        "          counts['result'], counts['is_goal'], counts['cost'], counts['actions'], name))"
      ]
    },
    {
      "cell_type": "markdown",
      "metadata": {
        "id": "exDMQMtTbcou"
      },
      "source": [
        "*   Search algorithms: `breadth_first_search, uniform_cost_search, depth_first_bfs, iterative_deepening_search, depth_limited_search, greedy_bfs, astar_search, weighted_astar_search`\n",
        "*   RouteProblems: `r1, r2, r3, r4`\n",
        "\n"
      ]
    },
    {
      "cell_type": "code",
      "execution_count": null,
      "metadata": {
        "colab": {
          "base_uri": "https://localhost:8080/"
        },
        "id": "_uZGCX8L_L2r",
        "outputId": "0e8c6aee-7801-4fe5-cb97-6aca495900b1"
      },
      "outputs": [
        {
          "ename": "",
          "evalue": "",
          "output_type": "error",
          "traceback": [
            "\u001b[1;31m'Python 3.10.6'(으)로 셀을 실행하려면 ipykernel 패키지가 필요합니다.\n",
            "\u001b[1;31m다음 명령어를 실행하여 Python 환경에 'ipykernel'을(를) 설치합니다. \n",
            "\u001b[1;31m 명령: 'c:/Users/kimh7/AppData/Local/Programs/Python/Python310/python.exe -m pip install ipykernel -U --user --force-reinstall'"
          ]
        }
      ],
      "source": [
        "report([breadth_first_search, uniform_cost_search, depth_first_bfs,\n",
        "        iterative_deepening_search, depth_limited_search, greedy_bfs, astar_search,\n",
        "        weighted_astar_search], [r1, r2, r3, r4])"
      ]
    },
    {
      "cell_type": "markdown",
      "metadata": {
        "id": "6lz1oYWRWR-r"
      },
      "source": [
        "# 6. GridProblem: Comparing reached states"
      ]
    },
    {
      "cell_type": "code",
      "execution_count": null,
      "metadata": {
        "id": "GG8kkPy6WA3z"
      },
      "outputs": [
        {
          "ename": "",
          "evalue": "",
          "output_type": "error",
          "traceback": [
            "\u001b[1;31m'Python 3.10.6'(으)로 셀을 실행하려면 ipykernel 패키지가 필요합니다.\n",
            "\u001b[1;31m다음 명령어를 실행하여 Python 환경에 'ipykernel'을(를) 설치합니다. \n",
            "\u001b[1;31m 명령: 'c:/Users/kimh7/AppData/Local/Programs/Python/Python310/python.exe -m pip install ipykernel -U --user --force-reinstall'"
          ]
        }
      ],
      "source": [
        "class GridProblem(Problem):\n",
        "    \"\"\"Finding a path on a 2D grid with obstacles. Obstacles are (x, y) cells.\"\"\"\n",
        "\n",
        "    def __init__(self, initial=(15, 30), goal=(130, 30), obstacles=(), **kwargs):\n",
        "        Problem.__init__(self, initial=initial, goal=goal,\n",
        "                         obstacles=set(obstacles) - {initial, goal}, **kwargs)\n",
        "\n",
        "        self.directions = [(-1, -1), (0, -1), (1, -1),\n",
        "                           (-1, 0),           (1,  0),\n",
        "                           (-1, +1), (0, +1), (1, +1)]\n",
        "\n",
        "    def action_cost(self, s, action, s1):\n",
        "      return straight_line_distance(s, s1)\n",
        "\n",
        "    def h(self, node):\n",
        "      return straight_line_distance(node.state, self.goal)\n",
        "\n",
        "    def result(self, state, action):\n",
        "        \"Both states and actions are represented by (x, y) pairs.\"\n",
        "        return action if action not in self.obstacles else state\n",
        "\n",
        "    def actions(self, state):\n",
        "        \"\"\"You can move one cell in any of `directions` to a non-obstacle cell.\"\"\"\n",
        "        x, y = state\n",
        "        return {(x + dx, y + dy) for (dx, dy) in self.directions} - self.obstacles"
      ]
    },
    {
      "cell_type": "code",
      "execution_count": null,
      "metadata": {
        "id": "EwGiOPzfXQzn"
      },
      "outputs": [
        {
          "ename": "",
          "evalue": "",
          "output_type": "error",
          "traceback": [
            "\u001b[1;31m'Python 3.10.6'(으)로 셀을 실행하려면 ipykernel 패키지가 필요합니다.\n",
            "\u001b[1;31m다음 명령어를 실행하여 Python 환경에 'ipykernel'을(를) 설치합니다. \n",
            "\u001b[1;31m 명령: 'c:/Users/kimh7/AppData/Local/Programs/Python/Python310/python.exe -m pip install ipykernel -U --user --force-reinstall'"
          ]
        }
      ],
      "source": [
        "def random_lines(X=range(15, 130), Y=range(60), N=150, lengths=range(6, 12)):\n",
        "    \"\"\"The set of cells in N random lines of the given lengths.\"\"\"\n",
        "    result = set()\n",
        "    for _ in range(N):\n",
        "        x, y = random.choice(X), random.choice(Y)\n",
        "        dx, dy = random.choice(((0, 1), (1, 0)))\n",
        "        result |= line(x, y, dx, dy, random.choice(lengths))\n",
        "    return result\n",
        "\n",
        "def line(x, y, dx, dy, length):\n",
        "    \"\"\"A line of `length` cells starting at (x, y) and going in (dx, dy) direction.\"\"\"\n",
        "    return {(x + i * dx, y + i * dy) for i in range(length)}"
      ]
    },
    {
      "cell_type": "code",
      "execution_count": null,
      "metadata": {
        "id": "0A7gv-TCFQ6G"
      },
      "outputs": [
        {
          "ename": "",
          "evalue": "",
          "output_type": "error",
          "traceback": [
            "\u001b[1;31m'Python 3.10.6'(으)로 셀을 실행하려면 ipykernel 패키지가 필요합니다.\n",
            "\u001b[1;31m다음 명령어를 실행하여 Python 환경에 'ipykernel'을(를) 설치합니다. \n",
            "\u001b[1;31m 명령: 'c:/Users/kimh7/AppData/Local/Programs/Python/Python310/python.exe -m pip install ipykernel -U --user --force-reinstall'"
          ]
        }
      ],
      "source": [
        "def plot_grid_problem(grid, solution, reached, title='Search'):\n",
        "    \"\"\"\n",
        "    Use matplotlib to plot the grid, obstacles, solution, and reached.\n",
        "    \"\"\"\n",
        "    plt.figure(figsize=(16, 10))\n",
        "    plt.axis('off'); plt.axis('equal')\n",
        "    plt.scatter(*transpose(grid.obstacles), marker='s', color='darkgrey')\n",
        "    plt.scatter(*transpose([grid.initial]), 9**2, marker='D', c='green')\n",
        "    plt.scatter(*transpose([grid.goal]), 9**2, marker='8', c='red')\n",
        "    if solution != None:\n",
        "      plt.scatter(*transpose(path_states(solution)), marker='s', c='blue')\n",
        "      print('{} search: {:.1f} path cost'.format(title, solution.path_cost))\n",
        "    if reached != None:\n",
        "      reached = list(reached)\n",
        "      plt.scatter(*transpose(reached), 1**2, marker='.', c='blue')\n",
        "      print('{:,d} states reached'.format(len(reached)))\n",
        "    plt.show()\n",
        "\n",
        "def transpose(matrix): return list(zip(*matrix))"
      ]
    },
    {
      "cell_type": "code",
      "execution_count": null,
      "metadata": {
        "id": "Y3c9xhEnFY44"
      },
      "outputs": [
        {
          "ename": "",
          "evalue": "",
          "output_type": "error",
          "traceback": [
            "\u001b[1;31m'Python 3.10.6'(으)로 셀을 실행하려면 ipykernel 패키지가 필요합니다.\n",
            "\u001b[1;31m다음 명령어를 실행하여 Python 환경에 'ipykernel'을(를) 설치합니다. \n",
            "\u001b[1;31m 명령: 'c:/Users/kimh7/AppData/Local/Programs/Python/Python310/python.exe -m pip install ipykernel -U --user --force-reinstall'"
          ]
        }
      ],
      "source": [
        "random.seed(42) # To make this reproducible\n",
        "\n",
        "frame = line(-10, 20, 0, 1, 20) | line(150, 20, 0, 1, 20)\n",
        "cup = line(102, 44, -1, 0, 15) | line(102, 20, -1, 0, 20) | line(102, 44, 0, -1, 24)\n",
        "\n",
        "d1 = GridProblem(obstacles=random_lines(N=100) | frame)\n",
        "d2 = GridProblem(obstacles=random_lines(N=150) | frame)\n",
        "d3 = GridProblem(obstacles=random_lines(N=200) | frame)\n",
        "d4 = GridProblem(obstacles=random_lines(N=250) | frame)\n",
        "d5 = GridProblem(obstacles=random_lines(N=300) | frame)\n",
        "d6 = GridProblem(obstacles=cup | frame)\n",
        "d7 = GridProblem(obstacles=cup | frame | line(50, 35, 0, -1, 10) | line(60, 37, 0, -1, 17) | line(70, 31, 0, -1, 19))"
      ]
    },
    {
      "cell_type": "code",
      "execution_count": null,
      "metadata": {
        "colab": {
          "base_uri": "https://localhost:8080/",
          "height": 475
        },
        "id": "QOpX_EREXJou",
        "outputId": "b22352a0-9809-4e75-b68f-ec0789307e8d"
      },
      "outputs": [
        {
          "ename": "",
          "evalue": "",
          "output_type": "error",
          "traceback": [
            "\u001b[1;31m'Python 3.10.6'(으)로 셀을 실행하려면 ipykernel 패키지가 필요합니다.\n",
            "\u001b[1;31m다음 명령어를 실행하여 Python 환경에 'ipykernel'을(를) 설치합니다. \n",
            "\u001b[1;31m 명령: 'c:/Users/kimh7/AppData/Local/Programs/Python/Python310/python.exe -m pip install ipykernel -U --user --force-reinstall'"
          ]
        }
      ],
      "source": [
        "plot_grid_problem(d3, solution=None, reached=None)"
      ]
    },
    {
      "cell_type": "markdown",
      "metadata": {
        "id": "Wvt7zMDiTdJ-"
      },
      "source": [
        "위의 `best_first_search` 함수에서 `reached` 변수 `global`로 변경 후 아래 알고리즘의 결과 시각화:\n",
        "\n",
        "*   `uniform_cost_search`\n",
        "*   `greedy_bfs`\n",
        "*   `astar_search`\n",
        "*   `weighted_astar_search`\n"
      ]
    },
    {
      "cell_type": "code",
      "execution_count": null,
      "metadata": {
        "colab": {
          "base_uri": "https://localhost:8080/",
          "height": 493
        },
        "id": "CIq5oNc9mjNa",
        "outputId": "406621dd-ac57-456a-d971-24a8c2d65050"
      },
      "outputs": [
        {
          "ename": "",
          "evalue": "",
          "output_type": "error",
          "traceback": [
            "\u001b[1;31m'Python 3.10.6'(으)로 셀을 실행하려면 ipykernel 패키지가 필요합니다.\n",
            "\u001b[1;31m다음 명령어를 실행하여 Python 환경에 'ipykernel'을(를) 설치합니다. \n",
            "\u001b[1;31m 명령: 'c:/Users/kimh7/AppData/Local/Programs/Python/Python310/python.exe -m pip install ipykernel -U --user --force-reinstall'"
          ]
        }
      ],
      "source": [
        "solution = uniform_cost_search(d3)\n",
        "plot_grid_problem(d3, solution, reached=None, title='Uniform cost search')"
      ]
    },
    {
      "cell_type": "code",
      "execution_count": null,
      "metadata": {
        "colab": {
          "base_uri": "https://localhost:8080/",
          "height": 843
        },
        "id": "wUgPkSPLT4gU",
        "outputId": "8ef9cffc-06f1-4a17-c585-feacc62c151f"
      },
      "outputs": [
        {
          "ename": "",
          "evalue": "",
          "output_type": "error",
          "traceback": [
            "\u001b[1;31m'Python 3.10.6'(으)로 셀을 실행하려면 ipykernel 패키지가 필요합니다.\n",
            "\u001b[1;31m다음 명령어를 실행하여 Python 환경에 'ipykernel'을(를) 설치합니다. \n",
            "\u001b[1;31m 명령: 'c:/Users/kimh7/AppData/Local/Programs/Python/Python310/python.exe -m pip install ipykernel -U --user --force-reinstall'"
          ]
        }
      ],
      "source": [
        "solution = greedy_bfs(d7)\n",
        "plot_grid_problem(d7, solution, reached, 'Greedy BFS')"
      ]
    },
    {
      "cell_type": "code",
      "execution_count": null,
      "metadata": {
        "colab": {
          "base_uri": "https://localhost:8080/",
          "height": 843
        },
        "id": "Or3DJKhdUbON",
        "outputId": "5c3457ca-1a97-4e13-af1e-08e386f6e262"
      },
      "outputs": [
        {
          "ename": "",
          "evalue": "",
          "output_type": "error",
          "traceback": [
            "\u001b[1;31m'Python 3.10.6'(으)로 셀을 실행하려면 ipykernel 패키지가 필요합니다.\n",
            "\u001b[1;31m다음 명령어를 실행하여 Python 환경에 'ipykernel'을(를) 설치합니다. \n",
            "\u001b[1;31m 명령: 'c:/Users/kimh7/AppData/Local/Programs/Python/Python310/python.exe -m pip install ipykernel -U --user --force-reinstall'"
          ]
        }
      ],
      "source": [
        "solution = astar_search(d7)\n",
        "plot_grid_problem(d7, solution, reached, 'A* search')"
      ]
    },
    {
      "cell_type": "code",
      "execution_count": null,
      "metadata": {
        "colab": {
          "base_uri": "https://localhost:8080/",
          "height": 843
        },
        "id": "2R09kbhNUeWB",
        "outputId": "54641c5b-b272-467a-fd6a-6bd4e4fd6e6d"
      },
      "outputs": [
        {
          "ename": "",
          "evalue": "",
          "output_type": "error",
          "traceback": [
            "\u001b[1;31m'Python 3.10.6'(으)로 셀을 실행하려면 ipykernel 패키지가 필요합니다.\n",
            "\u001b[1;31m다음 명령어를 실행하여 Python 환경에 'ipykernel'을(를) 설치합니다. \n",
            "\u001b[1;31m 명령: 'c:/Users/kimh7/AppData/Local/Programs/Python/Python310/python.exe -m pip install ipykernel -U --user --force-reinstall'"
          ]
        }
      ],
      "source": [
        "solution = uniform_cost_search(d6)\n",
        "plot_grid_problem(d6, solution, reached, 'weighted_astar_search')"
      ]
    },
    {
      "cell_type": "markdown",
      "metadata": {
        "id": "ll86Po694cbl"
      },
      "source": [
        "# 실습 과제"
      ]
    },
    {
      "cell_type": "markdown",
      "metadata": {
        "id": "5RGQLg4V6hlG"
      },
      "source": [
        "### 1번"
      ]
    },
    {
      "cell_type": "markdown",
      "metadata": {
        "id": "5GaWkKwB4gYQ"
      },
      "source": [
        "아래 상황에 대한 problem formulation(initial state, goal test, successor function, cost function)을 텍스트로 작성하시오. 실제 구현을 할 수 있을 정도로 구체적으로 작성하시오.\n",
        "\n",
        "1.   n × n 개의 정사각형 격자가 있으며, 각 정사각형은 처음에는 칠하지 않은 바닥이거나 바닥이 없는 구덩이이다. 칠하지 않은 바닥 정사각형에서 시작하며, 아래에 있는 정사각형을 칠하거나 인접한 칠하지 않은 바닥 정사각형으로 이동할 수 있다. 바닥 전체를 칠해야 한다.\n",
        "2.   12리터, 8리터, 3리터으로 측정되는 3개의 주전자와 수도꼭지가 있다. 주전자들을 가득 채우거나 이것들을 하나에서 다른 것으로 비울 수 있다. 정확히 1리터을 측정하고자 한다."
      ]
    },
    {
      "cell_type": "markdown",
      "metadata": {
        "id": "Ccb2E-JLkV7t"
      },
      "source": [
        "1.n x n 2차원 배열, painted(칠해진 상태), unpainted(칠해지지 않은 상태), hole(구덩이)로 구분할 수 있음\n",
        "\n",
        "initial state: unpainted로 시작함\n",
        "\n",
        "goal test: 모든 unpainted위치가 painted로 변한 상태\n",
        "\n",
        "successor function: 현재 위치를 칠함 and 인접한 칠해지지 않은 위치로 이동 하는 후속 상태를 알 수 있는 후속 함수, 이동은 상하좌우로 이동할 수 있고 구덩이가 있는 곳은 이동하지 않음\n",
        "\n",
        "cost function: 인접한 칠하지 않은 바닥으로 이동하는데 cost를 1씩 더함. 이동 횟수의 최단거리를 구하는게 아니라, 모든 바닥을 이동하는게 목적\n",
        "\n",
        "---\n",
        "\n",
        "2.\n",
        "initial state: 12, 8, 3 리터의 주전자가 모두 비어진 상태로 시작\n",
        "\n",
        "goal test: 3 개의 주전자 중에서 하나가 1리터인지 확인\n",
        "\n",
        "successor function: 한 주전자를 수도꼭지로 물을 가득 채우기, 한 주전의 물을 다른 주전자에 비우기의 행동을 후속 행동으로 할 수 있음\n",
        "\n",
        "cost function: 모든 행위를 수행하는데 드는 비용을 1로 설정하고 행위의 최소값으로 1리터를 만드는데 사용할 수 있다"
      ]
    },
    {
      "cell_type": "markdown",
      "metadata": {
        "id": "WM1OVSe-6KAE"
      },
      "source": [
        "![Screen Shot](data:image/png;base64,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)"
      ]
    },
    {
      "cell_type": "markdown",
      "metadata": {
        "id": "QdpRxfaX6ybG"
      },
      "source": [
        "Initial state이 1이며 goal state은 11일때, 1) breadth-first search, 2)  limit이 3 인 depth-limited search, 3) iterative deepening search을 실행했을 때 방문하게 되는 노드 번호를 각 탐색 알고리즘마다 작성하시오."
      ]
    },
    {
      "cell_type": "markdown",
      "metadata": {
        "id": "YON1u2C8A6R2"
      },
      "source": [
        "1) breadth-first search\n",
        "- 1 2 3 4 5 6 7 8 9\n",
        "\n",
        "2) limit 3인 depth-limited search\n",
        "- 1 2 4 8 9 5 10 11\n",
        "\n",
        "3) iterative deepening search\n",
        "- 깊이 0: 1\n",
        "- 깊이 1: 1 2 3\n",
        "- 깊이 2: 1 2 4 5 3 6 7\n",
        "- 깊이 3: 1 2 4 8 9 5 10 11"
      ]
    },
    {
      "cell_type": "markdown",
      "metadata": {
        "id": "HY7DDhbY8IXr"
      },
      "source": [
        "### 3번"
      ]
    },
    {
      "cell_type": "markdown",
      "metadata": {
        "id": "TOLrOLEXZgo9"
      },
      "source": []
    },
    {
      "cell_type": "markdown",
      "metadata": {
        "id": "CgOACsaI8KM4"
      },
      "source": [
        "GridProblem의 `d6`, `d7` 그리드에 1) `greedy_bfs`, 2) `astar_search`, 3) `weighted_astar_search` with weight `1.4`, 4) `weighted_astar_search` with weight `2`을 적용하여 탐색의 결과를 출력하시오. 출력된 결과를 바탕으로 각 알고리즘의 optimality와 reached state의 크기를 비교분석하시오."
      ]
    },
    {
      "cell_type": "markdown",
      "metadata": {
        "id": "Pyryt-6YIe7I"
      },
      "source": [
        "1) greedy_bfs\n",
        "- d6\n",
        "\n",
        "Greedy BFS search: 133.9 path cost\n",
        "\n",
        "758 states reached\n",
        "\n",
        "- d7\n",
        "\n",
        "Greedy BFS search: 151.6 path cost\n",
        "\n",
        "830 states reached\n",
        "\n",
        "Optimality: 최적의 경로를 보장하지는 않음. 휴리스틱 값을 최소치로하는 경로를 선택하기 때문에 완벽하게 최적의 경로가 아닐 수 있음.\n",
        "\n",
        "Reached: 상대적으로 다른 알고리즘에 비해 작을 수 있음. 목표에 빠르게 도달하기 위해 많은 경로 탐색이 발생하지 않을 수 있음.\n",
        "\n",
        "---\n",
        "2) astar_search\n",
        "\n",
        "- d6\n",
        "\n",
        "A* search search: 124.1 path cost\n",
        "\n",
        "3,305 states reached\n",
        "\n",
        "- d7\n",
        "\n",
        "A* search search: 127.4 path cost\n",
        "\n",
        "4,058 states reached\n",
        "\n",
        "\n",
        "Optimality: 휴리스틱을 사용하여 intial과 goal state의 추정 비용을 통해 최적화를 진행함. greedy에 비해 이동 비용이 적은 것을 알 수 있음\n",
        "\n",
        "Reached: greedy에 비해 최적 경로를 탐색하기 위한 더 많은 경로를 탐색함. 따라서 Reached의 크기가 커짐\n",
        "\n",
        "\n",
        "---\n",
        "3) weighted_astar_search with weight 1.4\n",
        "\n",
        "- d6\n",
        "\n",
        "weighted_astar_search search: 124.1 path cost\n",
        "\n",
        "44,261 states reached\n",
        "\n",
        "- d7\n",
        "\n",
        "weighted_astar_search search: 127.4 path cost\n",
        "\n",
        "46,506 states reached\n",
        "\n",
        "4) weighted_astar_search with weight 2\n",
        "\n",
        "- d6\n",
        "\n",
        "weighted_astar_search search: 124.1 path cost\n",
        "\n",
        "44,261 states reached\n",
        "\n",
        "- d7\n",
        "\n",
        "weighted_astar_search search: 127.4 path cost\n",
        "\n",
        "46,506 states reached\n",
        "\n",
        "Optimality: 가중치를 적용해 휴리스틱을 사용하며 greedy에 비해 더 적은 경로 비용을 가지고 있음\n",
        "\n",
        "Reached: 가중치에 따라 빠르게 목표에 도달하려고 함. 그러나 많은 경로를 탐색하기 때문에 Reached state의 크기가 셋 중에 가장 큼\n",
        "\n",
        "\n"
      ]
    },
    {
      "cell_type": "markdown",
      "metadata": {
        "id": "f8fe5Aam7ZC6"
      },
      "source": [
        "### 4번"
      ]
    },
    {
      "cell_type": "code",
      "execution_count": null,
      "metadata": {
        "id": "AyUdRzcn7Zue"
      },
      "outputs": [
        {
          "ename": "",
          "evalue": "",
          "output_type": "error",
          "traceback": [
            "\u001b[1;31m'Python 3.10.6'(으)로 셀을 실행하려면 ipykernel 패키지가 필요합니다.\n",
            "\u001b[1;31m다음 명령어를 실행하여 Python 환경에 'ipykernel'을(를) 설치합니다. \n",
            "\u001b[1;31m 명령: 'c:/Users/kimh7/AppData/Local/Programs/Python/Python310/python.exe -m pip install ipykernel -U --user --force-reinstall'"
          ]
        }
      ],
      "source": [
        "class EightPuzzle(Problem):\n",
        "    \"\"\" The problem of sliding tiles numbered from 1 to 8 on a 3x3 board,\n",
        "    where one of the squares is a blank, trying to reach a goal configuration.\n",
        "    A board state is represented as a tuple of length 9, where the element at index i\n",
        "    represents the tile number at index i, or 0 if for the empty square, e.g. the goal:\n",
        "        1 2 3\n",
        "        4 5 6 ==> (1, 2, 3, 4, 5, 6, 7, 8, 0)\n",
        "        7 8 _\n",
        "    \"\"\"\n",
        "\n",
        "    def __init__(self, initial, goal=(0, 1, 2, 3, 4, 5, 6, 7, 8)):\n",
        "        assert inversions(initial) % 2 == inversions(goal) % 2 # Parity check\n",
        "        self.initial, self.goal = initial, goal\n",
        "\n",
        "    def actions(self, state):\n",
        "        \"\"\"The indexes of the squares that the blank can move to.\"\"\"\n",
        "        moves = ((1, 3),    (0, 2, 4),    (1, 5),\n",
        "                 (0, 4, 6), (1, 3, 5, 7), (2, 4, 8),\n",
        "                 (3, 7),    (4, 6, 8),    (7, 5))\n",
        "        blank = state.index(0)\n",
        "        return moves[blank]\n",
        "\n",
        "    def result(self, state, action):\n",
        "        \"\"\"Swap the blank with the square numbered `action`.\"\"\"\n",
        "        s = list(state)\n",
        "        blank = state.index(0)\n",
        "        s[action], s[blank] = s[blank], s[action]\n",
        "        return tuple(s)\n",
        "\n",
        "    def h1(self, node):\n",
        "        \"\"\"The misplaced tiles heuristic.\"\"\"\n",
        "        return misplaced_tiles_heuristic(node.state, self.goal)\n",
        "\n",
        "    def h2(self, node):\n",
        "        \"\"\"The Manhattan heuristic.\"\"\"\n",
        "        return manhattan_distance_heuristic(node.state, self.goal)\n",
        "\n",
        "    def h(self, node): return EightPuzzle.h1(self, node)\n",
        "\n",
        "\n",
        "def inversions(board):\n",
        "    \"The number of times a piece is a smaller number than a following piece.\"\n",
        "    return sum((a > b and a != 0 and b != 0) for (a, b) in combinations(board, 2))\n",
        "\n",
        "\n",
        "def board8(board, fmt=(3 * '{} {} {}\\n')):\n",
        "    \"A string representing an 8-puzzle board\"\n",
        "    return fmt.format(*board).replace('0', '_')\n",
        "\n",
        "class Board(defaultdict):\n",
        "    empty = '.'\n",
        "    off = '#'\n",
        "    def __init__(self, board=None, width=8, height=8, to_move=None, **kwds):\n",
        "        if board is not None:\n",
        "            self.update(board)\n",
        "            self.width, self.height = (board.width, board.height)\n",
        "        else:\n",
        "            self.width, self.height = (width, height)\n",
        "        self.to_move = to_move\n",
        "\n",
        "    def __missing__(self, key):\n",
        "        x, y = key\n",
        "        if x < 0 or x >= self.width or y < 0 or y >= self.height:\n",
        "            return self.off\n",
        "        else:\n",
        "            return self.empty\n",
        "\n",
        "    def __repr__(self):\n",
        "        def row(y): return ' '.join(self[x, y] for x in range(self.width))\n",
        "        return '\\n'.join(row(y) for y in range(self.height))\n",
        "\n",
        "    def __hash__(self):\n",
        "        return hash(tuple(sorted(self.items()))) + hash(self.to_move)"
      ]
    },
    {
      "cell_type": "code",
      "execution_count": null,
      "metadata": {
        "id": "Iy_M9D0xhrhf"
      },
      "outputs": [
        {
          "ename": "",
          "evalue": "",
          "output_type": "error",
          "traceback": [
            "\u001b[1;31m'Python 3.10.6'(으)로 셀을 실행하려면 ipykernel 패키지가 필요합니다.\n",
            "\u001b[1;31m다음 명령어를 실행하여 Python 환경에 'ipykernel'을(를) 설치합니다. \n",
            "\u001b[1;31m 명령: 'c:/Users/kimh7/AppData/Local/Programs/Python/Python310/python.exe -m pip install ipykernel -U --user --force-reinstall'"
          ]
        }
      ],
      "source": [
        "e1 = EightPuzzle((1, 4, 2, 0, 7, 5, 3, 6, 8))\n",
        "e2 = EightPuzzle((1, 2, 3, 4, 5, 6, 7, 8, 0))\n",
        "e3 = EightPuzzle((4, 0, 2, 5, 1, 3, 7, 8, 6))\n",
        "e4 = EightPuzzle((7, 2, 4, 5, 0, 6, 8, 3, 1))\n",
        "e5 = EightPuzzle((8, 6, 7, 2, 5, 4, 3, 0, 1))"
      ]
    },
    {
      "cell_type": "code",
      "execution_count": null,
      "metadata": {
        "colab": {
          "base_uri": "https://localhost:8080/"
        },
        "id": "ulBsghWil9jI",
        "outputId": "d3cc273a-6285-4e96-f199-a5efa86be749"
      },
      "outputs": [
        {
          "ename": "",
          "evalue": "",
          "output_type": "error",
          "traceback": [
            "\u001b[1;31m'Python 3.10.6'(으)로 셀을 실행하려면 ipykernel 패키지가 필요합니다.\n",
            "\u001b[1;31m다음 명령어를 실행하여 Python 환경에 'ipykernel'을(를) 설치합니다. \n",
            "\u001b[1;31m 명령: 'c:/Users/kimh7/AppData/Local/Programs/Python/Python310/python.exe -m pip install ipykernel -U --user --force-reinstall'"
          ]
        }
      ],
      "source": [
        "print(board8(e1.initial))"
      ]
    },
    {
      "cell_type": "markdown",
      "metadata": {
        "id": "fmErRtXijtnk"
      },
      "source": [
        "1) 아래의 `misplaced_tiles_heuristic와` `manhattan_distance_heuristic` 함수들을 구현하고 간단한 documentation을 작성하시오. 작성된 test를 통해 구현 코드가 올바른지 확인하시오.\n",
        "\n",
        "*   `misplaced_tiles_heuristic(A, B)`: 잘못 배치된 타일의 수(공백 미포함)\n",
        "*   `manhattan_distance_heuristic(A, B)`: 타일의 목표 위치로부터의 거리의 합. 타일은 대각선을 따라 이동할 수 없기 때문에 거리는 가로 및 세로 거리의 합이다.\n",
        "\n"
      ]
    },
    {
      "cell_type": "code",
      "execution_count": null,
      "metadata": {
        "id": "_JISF8yuj7Ua"
      },
      "outputs": [
        {
          "ename": "",
          "evalue": "",
          "output_type": "error",
          "traceback": [
            "\u001b[1;31m'Python 3.10.6'(으)로 셀을 실행하려면 ipykernel 패키지가 필요합니다.\n",
            "\u001b[1;31m다음 명령어를 실행하여 Python 환경에 'ipykernel'을(를) 설치합니다. \n",
            "\u001b[1;31m 명령: 'c:/Users/kimh7/AppData/Local/Programs/Python/Python310/python.exe -m pip install ipykernel -U --user --force-reinstall'"
          ]
        }
      ],
      "source": [
        "def misplaced_tiles_heuristic(A, B):\n",
        "    cnt = 0\n",
        "    for x, y in zip(A, B):\n",
        "      if x != y and x != 0:\n",
        "        cnt += 1\n",
        "    return cnt"
      ]
    },
    {
      "cell_type": "code",
      "execution_count": null,
      "metadata": {
        "id": "-nGg0Zzlj7z5"
      },
      "outputs": [
        {
          "ename": "",
          "evalue": "",
          "output_type": "error",
          "traceback": [
            "\u001b[1;31m'Python 3.10.6'(으)로 셀을 실행하려면 ipykernel 패키지가 필요합니다.\n",
            "\u001b[1;31m다음 명령어를 실행하여 Python 환경에 'ipykernel'을(를) 설치합니다. \n",
            "\u001b[1;31m 명령: 'c:/Users/kimh7/AppData/Local/Programs/Python/Python310/python.exe -m pip install ipykernel -U --user --force-reinstall'"
          ]
        }
      ],
      "source": [
        "def manhattan_distance_heuristic(A, B):\n",
        "    def cal_dis(x, y):\n",
        "      cur_row, cur_col = divmod(x, 3)\n",
        "      goal_row, goal_col = divmod(y, 3)\n",
        "      return abs(cur_row - goal_row) + abs(cur_col - goal_col)\n",
        "\n",
        "    distance = [cal_dis(A.index(a), B.index(a)) for a in A if a != 0]\n",
        "    return sum(distance)"
      ]
    },
    {
      "cell_type": "markdown",
      "metadata": {
        "id": "DxJ0BwtSfQdv"
      },
      "source": [
        "misplaced_tiles_heuristic:\n",
        "\n",
        "A: current state of puzzle\n",
        "\n",
        "B: goal state of puzzle\n",
        "\n",
        "Return: current와 goal의 위치가 다르거나 공백인 상태, 즉 잘못 배치된 타일의 수를 반환\n",
        "\n",
        "zip(A,B)를 이용해 현재 state와 goal state를 받아오고, 잘못 배치되었을때, cnt를 하나씩 늘림\n",
        "\n",
        "\n",
        "---\n",
        "manhattan_distance_heuristic:\n",
        "\n",
        "A: current state of puzzle\n",
        "\n",
        "B: goal state of puzzle\n",
        "\n",
        "Return: 목표 위치로부터 거리의 합, 대각선x, 가로 세로만 이동가능한 거리의 합\n",
        "\n",
        "공백이 아닌 current state의 값을 받아 3으로 나눠 current와 goal의 행과 열의 위치를 받음, 두 값을 계산해 거리를 알아내고 합한 다음 return함\n"
      ]
    },
    {
      "cell_type": "code",
      "execution_count": null,
      "metadata": {
        "id": "vYMGoyMRp0Wj"
      },
      "outputs": [
        {
          "ename": "",
          "evalue": "",
          "output_type": "error",
          "traceback": [
            "\u001b[1;31m'Python 3.10.6'(으)로 셀을 실행하려면 ipykernel 패키지가 필요합니다.\n",
            "\u001b[1;31m다음 명령어를 실행하여 Python 환경에 'ipykernel'을(를) 설치합니다. \n",
            "\u001b[1;31m 명령: 'c:/Users/kimh7/AppData/Local/Programs/Python/Python310/python.exe -m pip install ipykernel -U --user --force-reinstall'"
          ]
        }
      ],
      "source": [
        "# test case\n",
        "node1 = Node(e3.initial)\n",
        "assert e3.h1(node1) == 7\n",
        "assert e3.h2(node1) == 11\n",
        "\n",
        "node2 = Node(e4.initial)\n",
        "assert e4.h1(node2) == 8\n",
        "assert e4.h2(node2) == 18"
      ]
    },
    {
      "cell_type": "markdown",
      "metadata": {
        "id": "1nEquCKsswLz"
      },
      "source": [
        "2) 아래 알고리즘을 `e1`, `e2`, `e3`, `e4`, `e5` 보드에 적용하고 그 결과를 `report` 함수를 통해 출력하시오.\n",
        "\n",
        "*   breadth_first_search: h = 0\n",
        "*   A* search with misplaced tiles heuristic\n",
        "*   A* search with Manhattan distance heuristic\n",
        "\n",
        "특정 heuristic이 적용된 탐색 알고리즘 함수 생성 예시:\n",
        "\n",
        "  ```\n",
        "  def astar_misplaced_tiles(problem):\n",
        "      return astar_search(problem, h=problem.h1)\n",
        "  ```"
      ]
    },
    {
      "cell_type": "code",
      "execution_count": null,
      "metadata": {
        "id": "TeXfRhKln9rL"
      },
      "outputs": [
        {
          "ename": "",
          "evalue": "",
          "output_type": "error",
          "traceback": [
            "\u001b[1;31m'Python 3.10.6'(으)로 셀을 실행하려면 ipykernel 패키지가 필요합니다.\n",
            "\u001b[1;31m다음 명령어를 실행하여 Python 환경에 'ipykernel'을(를) 설치합니다. \n",
            "\u001b[1;31m 명령: 'c:/Users/kimh7/AppData/Local/Programs/Python/Python310/python.exe -m pip install ipykernel -U --user --force-reinstall'"
          ]
        }
      ],
      "source": [
        "def astar_misplaced_tiles(problem):\n",
        "  return astar_search(problem, h=problem.h1)\n",
        "\n",
        "def astar_manhattan_distance(problem):\n",
        "  return astar_search(problem, h=problem.h2)"
      ]
    },
    {
      "cell_type": "code",
      "execution_count": null,
      "metadata": {
        "colab": {
          "base_uri": "https://localhost:8080/"
        },
        "id": "qXxhO-BMap6u",
        "outputId": "7d85e080-7739-49b9-b9a4-991aa3fb0c66"
      },
      "outputs": [
        {
          "ename": "",
          "evalue": "",
          "output_type": "error",
          "traceback": [
            "\u001b[1;31m'Python 3.10.6'(으)로 셀을 실행하려면 ipykernel 패키지가 필요합니다.\n",
            "\u001b[1;31m다음 명령어를 실행하여 Python 환경에 'ipykernel'을(를) 설치합니다. \n",
            "\u001b[1;31m 명령: 'c:/Users/kimh7/AppData/Local/Programs/Python/Python310/python.exe -m pip install ipykernel -U --user --force-reinstall'"
          ]
        }
      ],
      "source": [
        "problems = [e1, e2, e3, e4, e5]\n",
        "searchers = [breadth_first_search, astar_misplaced_tiles, astar_manhattan_distance]\n",
        "\n",
        "report(searchers, problems)"
      ]
    },
    {
      "cell_type": "markdown",
      "metadata": {
        "id": "ivSID-zXy96_"
      },
      "source": [
        "3) 위 문제에서 출력된 결과를 바탕으로 uninformed search와 informed search의 차이와 각 heuristic의 차이를 알고리즘의 특성에 기반하여 비교분석하시오."
      ]
    },
    {
      "cell_type": "markdown",
      "metadata": {
        "id": "wFBtlQtra7PZ"
      },
      "source": [
        "Uninformed search와 informed search:\n",
        "\n",
        "uninformed search는 goal state에 도달하는데 정보가 없어 가능한 모든 경로를 탐색함. 따라서 탐색을 해나가는 과정에서 최적화된 경로로 이동하지 않을 수 있고, 불필요한 탐색이 발생할 수도 있음\n",
        "breadth-first-search가 나머지 두 탐색에 비해 더 많은 노드와 action이 발생한 것으로 알 수 있음.\n",
        "\n",
        "\n",
        "informed search는 휴리스틱을 사용하여 탐색을 진행하기 때문에 uninformed search에 비해 최적화된 탐색이 가능함. A*search의 탐색 노드 값과 action의 수는 uninformed search에 비해 적은 값을 보임\n",
        "\n",
        "misplaced tiles heuristic은 current state에서 잘못된 위치를 계산하는 것. 최적화된 계산을 휴리스틱하게 도와주지만 goal state에 도달하기 위한 과정상의 거리와 같은 방식이 아님\n",
        "\n",
        "manhattan distance heuristic은 goal state로 이동하기 위한 최소한의 거리를 계속 찾기 때문에 최적화에 좋음. 결과를 보면 이 휴리스틱이 misplaced heuristic에 비해 더 적은 노드를 탐색하고 action역시 적게 발생함. 따라서 현재 위치를 기반한 계산보다, 목표 위치로 이동하기 위한 이동 횟수 휴리스틱이 더 효율적임.\n"
      ]
    }
  ],
  "metadata": {
    "colab": {
      "provenance": []
    },
    "kernelspec": {
      "display_name": "Python 3",
      "name": "python3"
    },
    "language_info": {
      "name": "python",
      "version": "3.10.6"
    }
  },
  "nbformat": 4,
  "nbformat_minor": 0
}
